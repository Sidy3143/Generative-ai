{
  "nbformat": 4,
  "nbformat_minor": 0,
  "metadata": {
    "colab": {
      "provenance": [],
      "gpuType": "T4",
      "authorship_tag": "ABX9TyPEDz/lUeIm8/tB1rEvCQnX",
      "include_colab_link": true
    },
    "kernelspec": {
      "name": "python3",
      "display_name": "Python 3"
    },
    "language_info": {
      "name": "python"
    },
    "accelerator": "GPU"
  },
  "cells": [
    {
      "cell_type": "markdown",
      "metadata": {
        "id": "view-in-github",
        "colab_type": "text"
      },
      "source": [
        "<a href=\"https://colab.research.google.com/github/Sidy3143/Generative-ai/blob/main/linear_VAE.ipynb\" target=\"_parent\"><img src=\"https://colab.research.google.com/assets/colab-badge.svg\" alt=\"Open In Colab\"/></a>"
      ]
    },
    {
      "cell_type": "markdown",
      "source": [
        "Training a simple VAE, using Linear layers"
      ],
      "metadata": {
        "id": "i21OnasL-W5v"
      }
    },
    {
      "cell_type": "markdown",
      "metadata": {
        "id": "78227d62"
      },
      "source": [
        "We import the necessary libraries for building and training the VAE, including `torch` for deep learning, `torch.nn` for neural network modules, `torchvision` for the MNIST dataset and transformations, `numpy` for numerical operations, `tqdm` for progress bars, and `matplotlib.pyplot` for plotting."
      ]
    },
    {
      "cell_type": "code",
      "source": [
        "import torch\n",
        "import torch.nn as nn\n",
        "from torchvision import datasets, transforms\n",
        "import numpy as np\n",
        "from tqdm import tqdm\n",
        "import matplotlib.pyplot as plt"
      ],
      "metadata": {
        "id": "RiIQBOQR5Z-6"
      },
      "execution_count": 1,
      "outputs": []
    },
    {
      "cell_type": "markdown",
      "metadata": {
        "id": "ccb7527e"
      },
      "source": [
        "This cell loads the MNIST dataset, which consists of handwritten digits. `root='./data'` specifies the directory to store the data, `train=True` indicates that we want the training set, `download=True` downloads the dataset if it's not already present, and `transform=transforms.ToTensor()` converts the images to PyTorch tensors. The `dataloader` is then created to efficiently load the data in batches during training."
      ]
    },
    {
      "cell_type": "code",
      "source": [
        "mnist = datasets.MNIST(root='./data', train=True, download=True, transform=transforms.ToTensor())\n",
        "\n",
        "dataloader = torch.utils.data.DataLoader(dataset=mnist, batch_size=64, shuffle=True)"
      ],
      "metadata": {
        "colab": {
          "base_uri": "https://localhost:8080/"
        },
        "id": "xFg9RaRg9vqe",
        "outputId": "c16f7561-bd9d-44f3-e51b-d66ab56dcd99"
      },
      "execution_count": 2,
      "outputs": [
        {
          "output_type": "stream",
          "name": "stderr",
          "text": [
            "100%|██████████| 9.91M/9.91M [00:00<00:00, 18.2MB/s]\n",
            "100%|██████████| 28.9k/28.9k [00:00<00:00, 495kB/s]\n",
            "100%|██████████| 1.65M/1.65M [00:00<00:00, 4.61MB/s]\n",
            "100%|██████████| 4.54k/4.54k [00:00<00:00, 8.32MB/s]\n"
          ]
        }
      ]
    },
    {
      "cell_type": "markdown",
      "metadata": {
        "id": "2acef0a0"
      },
      "source": [
        "This cell defines the VAE model as a PyTorch `nn.Module`. It consists of an encoder that maps the input to a latent space (mean and log-variance) and a decoder that reconstructs the input from the latent space. The `encode` method implements the encoder, the `decode` method implements the decoder, and the `forward` method combines them to perform a full pass through the VAE."
      ]
    },
    {
      "cell_type": "code",
      "source": [
        "class Vae(nn.Module):\n",
        "  def __init__(self, input_dim, hidden_dim, latent_dim):\n",
        "    super(Vae, self).__init__()\n",
        "\n",
        "    # encoder\n",
        "    self.input2_hid = nn.Linear(input_dim, hidden_dim)\n",
        "    self.hid2_mu = nn.Linear(hidden_dim, latent_dim)\n",
        "    self.hid2_sigma = nn.Linear(hidden_dim, latent_dim)\n",
        "\n",
        "    # decoder\n",
        "    self.latent2_hid = nn.Linear(latent_dim, hidden_dim)\n",
        "    self.hid2_input = nn.Linear(hidden_dim, input_dim)\n",
        "\n",
        "    self.relu = nn.ReLU()\n",
        "\n",
        "  def encode(self, x):\n",
        "    hidden = self.relu(self.input2_hid(x))\n",
        "    mu, log_var = self.hid2_mu(hidden), self.hid2_sigma(hidden)\n",
        "\n",
        "    return mu, log_var\n",
        "\n",
        "  def decode(self, z):\n",
        "    reconstructed = torch.sigmoid(self.hid2_input(self.latent2_hid(z)))\n",
        "\n",
        "    return reconstructed\n",
        "\n",
        "  def forward(self, x):\n",
        "    mu, log_var = self.encode(x)\n",
        "\n",
        "    sigma = torch.exp(0.5 * log_var)\n",
        "    epsilon = torch.randn_like(sigma)\n",
        "    z = mu + sigma * epsilon\n",
        "\n",
        "    reconstructed = self.decode(z)\n",
        "\n",
        "    return reconstructed, mu, log_var"
      ],
      "metadata": {
        "id": "xQEHTILI9vj6"
      },
      "execution_count": 3,
      "outputs": []
    },
    {
      "cell_type": "code",
      "source": [
        "input_dim = 784\n",
        "hidden_dim = 200\n",
        "latent_dim = 20\n",
        "lr = 1e-3\n",
        "\n",
        "model = Vae(input_dim, hidden_dim, latent_dim)\n",
        "criterion = nn.BCELoss(reduction=\"sum\") # experiment with reduction=\"sum\"\n",
        "optimizer = torch.optim.Adam(model.parameters(), lr=lr)\n",
        "device = torch.device(\"cuda\" if torch.cuda.is_available() else \"cpu\")"
      ],
      "metadata": {
        "id": "Rsxu8QkT92pO"
      },
      "execution_count": 4,
      "outputs": []
    },
    {
      "cell_type": "code",
      "source": [
        "device"
      ],
      "metadata": {
        "colab": {
          "base_uri": "https://localhost:8080/"
        },
        "id": "OaUL0D9U99tB",
        "outputId": "36a154c1-9324-4aab-a618-d00375660a58"
      },
      "execution_count": 5,
      "outputs": [
        {
          "output_type": "execute_result",
          "data": {
            "text/plain": [
              "device(type='cuda')"
            ]
          },
          "metadata": {},
          "execution_count": 5
        }
      ]
    },
    {
      "cell_type": "code",
      "source": [
        "model = model.to(device)"
      ],
      "metadata": {
        "id": "tOC5sh9n92gd"
      },
      "execution_count": 6,
      "outputs": []
    },
    {
      "cell_type": "code",
      "source": [
        "# trainning loop\n",
        "epochs = 20\n",
        "for i in range(epochs):\n",
        "  loop = tqdm(enumerate(dataloader))\n",
        "  for n, (images, _) in loop:\n",
        "    images = images.reshape(-1, input_dim)\n",
        "    images = images.to(device)\n",
        "\n",
        "    reconstructed, mu, log_var = model(images)\n",
        "\n",
        "    sigma = torch.exp(0.5 * log_var)\n",
        "    loss = criterion(reconstructed, images)\n",
        "    kl_div = -torch.sum(1 + log_var - mu.pow(2) - log_var.exp()) # or KL_loss = - Σ (1 + 2*log(σ) - μ² - σ²)\n",
        "    total_loss = loss + kl_div\n",
        "\n",
        "    optimizer.zero_grad()\n",
        "    total_loss.backward()\n",
        "    optimizer.step()\n",
        "    loop.set_postfix(loss=loss.item())"
      ],
      "metadata": {
        "colab": {
          "base_uri": "https://localhost:8080/"
        },
        "id": "z9wMfrYN9-Vc",
        "outputId": "77070b24-1460-421a-da02-fdad4487e6b4"
      },
      "execution_count": 7,
      "outputs": [
        {
          "output_type": "stream",
          "name": "stderr",
          "text": [
            "938it [00:10, 87.80it/s, loss=4.06e+3]\n",
            "938it [00:10, 93.59it/s, loss=3.67e+3]\n",
            "938it [00:09, 93.88it/s, loss=3.01e+3]\n",
            "938it [00:10, 87.18it/s, loss=3.39e+3]\n",
            "938it [00:10, 92.12it/s, loss=3.4e+3]\n",
            "938it [00:09, 96.84it/s, loss=3.48e+3]\n",
            "938it [00:09, 94.40it/s, loss=3.33e+3]\n",
            "938it [00:10, 92.76it/s, loss=3.58e+3]\n",
            "938it [00:10, 93.41it/s, loss=3.72e+3]\n",
            "938it [00:10, 92.99it/s, loss=3.65e+3] \n",
            "938it [00:09, 94.09it/s, loss=3.54e+3]\n",
            "938it [00:09, 96.70it/s, loss=3.39e+3]\n",
            "938it [00:10, 93.02it/s, loss=3.35e+3]\n",
            "938it [00:09, 93.91it/s, loss=3.5e+3]\n",
            "938it [00:09, 93.97it/s, loss=3.58e+3]\n",
            "938it [00:10, 93.75it/s, loss=3.47e+3]\n",
            "938it [00:09, 97.78it/s, loss=3.49e+3]\n",
            "938it [00:09, 94.61it/s, loss=3.44e+3]\n",
            "938it [00:10, 93.10it/s, loss=3.44e+3] \n",
            "938it [00:10, 91.34it/s, loss=3.66e+3]\n"
          ]
        }
      ]
    },
    {
      "cell_type": "markdown",
      "metadata": {
        "id": "300ed70d"
      },
      "source": [
        "Let's create a function called `reconstruction` to see how well our VAE can rebuild an image! You give it an image and our trained VAE, and it will show you the original image right next to the VAE's attempt at reconstructing it. We'll send the image through the model to get the reconstruction and then use `matplotlib` to display them side-by-side."
      ]
    },
    {
      "cell_type": "code",
      "source": [
        "# reconstruction\n",
        "def reconstruction(image, model):\n",
        "  with torch.no_grad():\n",
        "     image = image.view(-1, 28*28)\n",
        "     image = image.to(device)\n",
        "\n",
        "     mu, log_var = model.encode(image)\n",
        "     sigma = torch.exp(0.5 * log_var)\n",
        "\n",
        "     epsilon = torch.randn_like(sigma)\n",
        "     z = mu + sigma * epsilon\n",
        "     reconstructed = model.decode(z)\n",
        "\n",
        "  img = image.cpu().detach().numpy().reshape(28, 28)\n",
        "  recon = reconstructed.cpu().detach().numpy().reshape(28, 28)\n",
        "\n",
        "  plt.figure(figsize=(9, 2))\n",
        "  plt.subplot(1, 2, 1)\n",
        "  plt.imshow(img, cmap=\"gray\")\n",
        "  plt.subplot(1, 2, 2)\n",
        "  plt.imshow(recon, cmap=\"gray\")\n",
        "  plt.show()"
      ],
      "metadata": {
        "id": "T3FEbHil-Gvm"
      },
      "execution_count": 8,
      "outputs": []
    },
    {
      "cell_type": "markdown",
      "metadata": {
        "id": "171f340b"
      },
      "source": [
        "We'll define a function called `sampling` that lets us generate brand new images! You give it the trained VAE and tell it how many images you want. It will randomly pick points in the latent space, use the VAE's decoder to turn those points into images, and then we'll use `matplotlib` to show off the cool new images it created!"
      ]
    },
    {
      "cell_type": "code",
      "source": [
        "def sampling(model, n_samples=5):\n",
        "  with torch.no_grad():\n",
        "    z = torch.randn(n_samples, latent_dim).to(device)\n",
        "\n",
        "    sampled = model.decode(z)\n",
        "\n",
        "    sample = sampled.cpu().detach().numpy().reshape(-1, 28, 28)\n",
        "    for i in range(n_samples):\n",
        "        plt.imshow(sample[i], cmap=\"gray\")\n",
        "        plt.show()"
      ],
      "metadata": {
        "id": "Tx_fG9Vt-KeR"
      },
      "execution_count": 9,
      "outputs": []
    },
    {
      "cell_type": "code",
      "source": [
        "#exemple reconstruction\n",
        "idx = 0\n",
        "digits = []\n",
        "for image, label in mnist:\n",
        "   if label == idx:\n",
        "     digits.append(image)\n",
        "     idx+=1\n",
        "   if idx==10:\n",
        "    break\n",
        "\n",
        "for img in digits:\n",
        "  reconstruction(img, model)"
      ],
      "metadata": {
        "id": "ux0yk7Fk-KSy",
        "colab": {
          "base_uri": "https://localhost:8080/",
          "height": 1000
        },
        "outputId": "a8ce8b9f-707b-4458-a1c2-f0b506756a4d"
      },
      "execution_count": 10,
      "outputs": [
        {
          "output_type": "display_data",
          "data": {
            "text/plain": [
              "<Figure size 900x200 with 2 Axes>"
            ],
            "image/png": "[encoded data removed]"
          },
          "metadata": {}
        },
        {
          "output_type": "display_data",
          "data": {
            "text/plain": [
              "<Figure size 900x200 with 2 Axes>"
            ],
            "image/png": "[encoded data removed]"
          },
          "metadata": {}
        },
        {
          "output_type": "display_data",
          "data": {
            "text/plain": [
              "<Figure size 900x200 with 2 Axes>"
            ],
            "image/png": "[encoded data removed]"
          },
          "metadata": {}
        },
        {
          "output_type": "display_data",
          "data": {
            "text/plain": [
              "<Figure size 900x200 with 2 Axes>"
            ],
            "image/png": "[encoded data removed]"
          },
          "metadata": {}
        },
        {
          "output_type": "display_data",
          "data": {
            "text/plain": [
              "<Figure size 900x200 with 2 Axes>"
            ],
            "image/png": "[encoded data removed]"
          },
          "metadata": {}
        },
        {
          "output_type": "display_data",
          "data": {
            "text/plain": [
              "<Figure size 900x200 with 2 Axes>"
            ],
            "image/png": "[encoded data removed]"
          },
          "metadata": {}
        },
        {
          "output_type": "display_data",
          "data": {
            "text/plain": [
              "<Figure size 900x200 with 2 Axes>"
            ],
            "image/png": "[encoded data removed]"
          },
          "metadata": {}
        },
        {
          "output_type": "display_data",
          "data": {
            "text/plain": [
              "<Figure size 900x200 with 2 Axes>"
            ],
            "image/png": "[encoded data removed]"
          },
          "metadata": {}
        },
        {
          "output_type": "display_data",
          "data": {
            "text/plain": [
              "<Figure size 900x200 with 2 Axes>"
            ],
            "image/png": "[encoded data removed]"
          },
          "metadata": {}
        },
        {
          "output_type": "display_data",
          "data": {
            "text/plain": [
              "<Figure size 900x200 with 2 Axes>"
            ],
            "image/png": "[encoded data removed]"
          },
          "metadata": {}
        }
      ]
    },
    {
      "cell_type": "code",
      "source": [
        "# example sampling\n",
        "\n",
        "sampling(model)"
      ],
      "metadata": {
        "id": "_ZFUODPa-RhH",
        "colab": {
          "base_uri": "https://localhost:8080/",
          "height": 1000
        },
        "outputId": "1d220dd4-ef46-409a-d2de-9479fa0f6b12"
      },
      "execution_count": 11,
      "outputs": [
        {
          "output_type": "display_data",
          "data": {
            "text/plain": [
              "<Figure size 640x480 with 1 Axes>"
            ],
            "image/png": "[encoded data removed]"
          },
          "metadata": {}
        },
        {
          "output_type": "display_data",
          "data": {
            "text/plain": [
              "<Figure size 640x480 with 1 Axes>"
            ],
            "image/png": "[encoded data removed]"
          },
          "metadata": {}
        },
        {
          "output_type": "display_data",
          "data": {
            "text/plain": [
              "<Figure size 640x480 with 1 Axes>"
            ],
            "image/png": "[encoded data removed]"
          },
          "metadata": {}
        },
        {
          "output_type": "display_data",
          "data": {
            "text/plain": [
              "<Figure size 640x480 with 1 Axes>"
            ],
            "image/png": "[encoded data removed]"
          },
          "metadata": {}
        },
        {
          "output_type": "display_data",
          "data": {
            "text/plain": [
              "<Figure size 640x480 with 1 Axes>"
            ],
            "image/png": "[encoded data removed]"
          },
          "metadata": {}
        }
      ]
    },
    {
      "cell_type": "markdown",
      "metadata": {
        "id": "98bf33bc"
      },
      "source": [
        " Ray Tune is a hyperparameter tuning library that can be used to efficiently search for the best hyperparameters for a machine learning model."
      ]
    },
    {
      "cell_type": "code",
      "source": [
        "!pip -q install ray[tune]"
      ],
      "metadata": {
        "colab": {
          "base_uri": "https://localhost:8080/"
        },
        "id": "Se2qc9AX-BXk",
        "outputId": "bdcbe2a0-9088-472f-c289-9aafe80e11d8"
      },
      "execution_count": 12,
      "outputs": [
        {
          "output_type": "stream",
          "name": "stdout",
          "text": [
            "\u001b[2K   \u001b[90m━━━━━━━━━━━━━━━━━━━━━━━━━━━━━━━━━━━━━━━━\u001b[0m \u001b[32m101.7/101.7 kB\u001b[0m \u001b[31m4.9 MB/s\u001b[0m eta \u001b[36m0:00:00\u001b[0m\n",
            "\u001b[2K   \u001b[90m━━━━━━━━━━━━━━━━━━━━━━━━━━━━━━━━━━━━━━━━\u001b[0m \u001b[32m68.5/68.5 MB\u001b[0m \u001b[31m13.2 MB/s\u001b[0m eta \u001b[36m0:00:00\u001b[0m\n",
            "\u001b[?25h"
          ]
        }
      ]
    },
    {
      "cell_type": "code",
      "source": [
        "from ray import tune\n",
        "\n",
        "def train_vae(config):\n",
        "    model = Vae(input_dim, hidden_dim, latent_dim).to(device)\n",
        "    optimizer = torch.optim.Adam(model.parameters(), lr=config[\"lr\"])\n",
        "    dataloader = torch.utils.data.DataLoader(dataset=mnist, batch_size=config[\"batch_size\"], shuffle=True)\n",
        "\n",
        "    # trainning loop\n",
        "    epochs = 5\n",
        "    for i in range(epochs):\n",
        "      loop = tqdm(enumerate(dataloader))\n",
        "      for n, (images, _) in loop:\n",
        "        images = images.reshape(-1, input_dim)\n",
        "        images = images.to(device)\n",
        "\n",
        "        reconstructed, mu, log_var = model(images)\n",
        "\n",
        "        sigma = torch.exp(0.5 * log_var)\n",
        "        loss = criterion(reconstructed, images)\n",
        "        kl_div = -torch.sum(1 + log_var - mu.pow(2) - log_var.exp()) # or KL_loss = - Σ (1 + 2*log(σ) - μ² - σ²)\n",
        "        total_loss = loss + kl_div\n",
        "\n",
        "        optimizer.zero_grad()\n",
        "        total_loss.backward()\n",
        "        optimizer.step()\n",
        "\n",
        "        tune.report({\"loss\": total_loss.item()})\n",
        "        if n==20:\n",
        "          break\n",
        "\n",
        "config = {\n",
        "    \"lr\": tune.grid_search([1e-3, 1e-4, 1e-5]),\n",
        "    \"batch_size\": tune.grid_search([32, 64, 128]),\n",
        "}\n",
        "\n",
        "analysis = tune.run(\n",
        "    train_vae,\n",
        "    config=config,\n",
        "    # ... (Other Ray Tune configuration options) ...\n",
        ")\n",
        "\n",
        "best_config = analysis.get_best_config(metric=\"loss\", mode=\"min\")\n",
        "print(f\"Best hyperparameters: {best_config}\")"
      ],
      "metadata": {
        "colab": {
          "base_uri": "https://localhost:8080/",
          "height": 1000
        },
        "id": "mi2A9Omn-BSa",
        "outputId": "21221367-803d-484c-cb87-ede8d0affe96"
      },
      "execution_count": null,
      "outputs": [
        {
          "output_type": "stream",
          "name": "stdout",
          "text": [
            "+------------------------------------------------------------------+\n",
            "| Configuration for experiment     train_vae_2025-02-11_03-31-05   |\n",
            "+------------------------------------------------------------------+\n",
            "| Search algorithm                 BasicVariantGenerator           |\n",
            "| Scheduler                        FIFOScheduler                   |\n",
            "| Number of trials                 9                               |\n",
            "+------------------------------------------------------------------+\n",
            "\n",
            "View detailed results here: /root/ray_results/train_vae_2025-02-11_03-31-05\n",
            "To visualize your results with TensorBoard, run: `tensorboard --logdir /tmp/ray/session_2025-02-11_03-21-58_700050_194/artifacts/2025-02-11_03-31-05/train_vae_2025-02-11_03-31-05/driver_artifacts`\n",
            "\u001b[33m(raylet)\u001b[0m Warning: The actor ImplicitFunc is very large (90 MiB). Check that its definition is not implicitly capturing a large array or other object in scope. Tip: use ray.put() to put large objects in the Ray object store.\n",
            "\n",
            "Trial status: 9 PENDING\n",
            "Current time: 2025-02-11 03:31:16. Total running time: 10s\n",
            "Logical resource usage: 2.0/2 CPUs, 0/1 GPUs (0.0/1.0 accelerator_type:T4)\n",
            "+----------------------------------------------------------+\n",
            "| Trial name              status         lr     batch_size |\n",
            "+----------------------------------------------------------+\n",
            "| train_vae_a0575_00000   PENDING    0.001              32 |\n",
            "| train_vae_a0575_00001   PENDING    0.001              64 |\n",
            "| train_vae_a0575_00002   PENDING    0.001             128 |\n",
            "| train_vae_a0575_00003   PENDING    0.0001             32 |\n",
            "| train_vae_a0575_00004   PENDING    0.0001             64 |\n",
            "| train_vae_a0575_00005   PENDING    0.0001            128 |\n",
            "| train_vae_a0575_00006   PENDING    1e-05              32 |\n",
            "| train_vae_a0575_00007   PENDING    1e-05              64 |\n",
            "| train_vae_a0575_00008   PENDING    1e-05             128 |\n",
            "+----------------------------------------------------------+\n",
            "\n",
            "Trial train_vae_a0575_00000 started with configuration:\n",
            "+----------------------------------------------+\n",
            "| Trial train_vae_a0575_00000 config           |\n",
            "+----------------------------------------------+\n",
            "| batch_size                                32 |\n",
            "| lr                                     0.001 |\n",
            "+----------------------------------------------+\n",
            "\n",
            "Trial train_vae_a0575_00001 started with configuration:\n",
            "+----------------------------------------------+\n",
            "| Trial train_vae_a0575_00001 config           |\n",
            "+----------------------------------------------+\n",
            "| batch_size                                64 |\n",
            "| lr                                     0.001 |\n",
            "+----------------------------------------------+\n"
          ]
        },
        {
          "output_type": "stream",
          "name": "stderr",
          "text": [
            "2025-02-11 03:31:24,644\tERROR tune_controller.py:1331 -- Trial task failed for trial train_vae_a0575_00000\n",
            "Traceback (most recent call last):\n",
            "  File \"/usr/local/lib/python3.11/dist-packages/ray/air/execution/_internal/event_manager.py\", line 110, in resolve_future\n",
            "    result = ray.get(future)\n",
            "             ^^^^^^^^^^^^^^^\n",
            "  File \"/usr/local/lib/python3.11/dist-packages/ray/_private/auto_init_hook.py\", line 21, in auto_init_wrapper\n",
            "    return fn(*args, **kwargs)\n",
            "           ^^^^^^^^^^^^^^^^^^^\n",
            "  File \"/usr/local/lib/python3.11/dist-packages/ray/_private/client_mode_hook.py\", line 103, in wrapper\n",
            "    return func(*args, **kwargs)\n",
            "           ^^^^^^^^^^^^^^^^^^^^^\n",
            "  File \"/usr/local/lib/python3.11/dist-packages/ray/_private/worker.py\", line 2772, in get\n",
            "    values, debugger_breakpoint = worker.get_objects(object_refs, timeout=timeout)\n",
            "                                  ^^^^^^^^^^^^^^^^^^^^^^^^^^^^^^^^^^^^^^^^^^^^^^^^\n",
            "  File \"/usr/local/lib/python3.11/dist-packages/ray/_private/worker.py\", line 919, in get_objects\n",
            "    raise value.as_instanceof_cause()\n",
            "ray.exceptions.RayTaskError(RuntimeError): \u001b[36mray::ImplicitFunc.train()\u001b[39m (pid=5189, ip=172.28.0.12, actor_id=88400952d7d22048912c313901000000, repr=train_vae)\n",
            "           ^^^^^^^^^^^^^^^^^^^^^^^^^^^^^^^^^^^^\n",
            "           ^^^^^^^^^^^^^^^^^^^^^^^^^^^^^^^\n",
            "  File \"/usr/local/lib/python3.11/dist-packages/ray/tune/trainable/trainable.py\", line 331, in train\n",
            "    raise skipped from exception_cause(skipped)\n",
            "  File \"/usr/local/lib/python3.11/dist-packages/ray/air/_internal/util.py\", line 107, in run\n",
            "    self._ret = self._target(*self._args, **self._kwargs)\n",
            "                ^^^^^^^^^^^^^^^^^^^^^^^^^^^^^^^^^^^^^^^^^\n",
            "  File \"/usr/local/lib/python3.11/dist-packages/ray/tune/trainable/function_trainable.py\", line 45, in <lambda>\n",
            "    training_func=lambda: self._trainable_func(self.config),\n",
            "                          ^^^^^^^^^^^^^^^^^^^^^^^^^^^^^^^^^\n",
            "           ^^^^^^^^^^^^^^^^^^^^^^^^^^^^^^^\n",
            "  File \"/usr/local/lib/python3.11/dist-packages/ray/tune/trainable/function_trainable.py\", line 261, in _trainable_func\n",
            "    output = fn()\n",
            "             ^^^^\n",
            "  File \"<ipython-input-11-a913e65f2914>\", line 4, in train_vae\n",
            "  File \"/usr/local/lib/python3.11/dist-packages/torch/nn/modules/module.py\", line 1340, in to\n",
            "    return self._apply(convert)\n",
            "           ^^^^^^^^^^^^^^^^^^^^\n",
            "  File \"/usr/local/lib/python3.11/dist-packages/torch/nn/modules/module.py\", line 900, in _apply\n",
            "    module._apply(fn)\n",
            "  File \"/usr/local/lib/python3.11/dist-packages/torch/nn/modules/module.py\", line 927, in _apply\n",
            "    param_applied = fn(param)\n",
            "                    ^^^^^^^^^\n",
            "  File \"/usr/local/lib/python3.11/dist-packages/torch/nn/modules/module.py\", line 1326, in convert\n",
            "    return t.to(\n",
            "           ^^^^^\n",
            "  File \"/usr/local/lib/python3.11/dist-packages/torch/cuda/__init__.py\", line 319, in _lazy_init\n",
            "    torch._C._cuda_init()\n",
            "RuntimeError: No CUDA GPUs are available\n",
            "2025-02-11 03:31:24,745\tERROR tune_controller.py:1331 -- Trial task failed for trial train_vae_a0575_00001\n",
            "Traceback (most recent call last):\n",
            "  File \"/usr/local/lib/python3.11/dist-packages/ray/air/execution/_internal/event_manager.py\", line 110, in resolve_future\n",
            "    result = ray.get(future)\n",
            "             ^^^^^^^^^^^^^^^\n",
            "  File \"/usr/local/lib/python3.11/dist-packages/ray/_private/auto_init_hook.py\", line 21, in auto_init_wrapper\n",
            "    return fn(*args, **kwargs)\n",
            "           ^^^^^^^^^^^^^^^^^^^\n",
            "  File \"/usr/local/lib/python3.11/dist-packages/ray/_private/client_mode_hook.py\", line 103, in wrapper\n",
            "    return func(*args, **kwargs)\n",
            "           ^^^^^^^^^^^^^^^^^^^^^\n",
            "  File \"/usr/local/lib/python3.11/dist-packages/ray/_private/worker.py\", line 2772, in get\n",
            "    values, debugger_breakpoint = worker.get_objects(object_refs, timeout=timeout)\n",
            "                                  ^^^^^^^^^^^^^^^^^^^^^^^^^^^^^^^^^^^^^^^^^^^^^^^^\n",
            "  File \"/usr/local/lib/python3.11/dist-packages/ray/_private/worker.py\", line 919, in get_objects\n",
            "    raise value.as_instanceof_cause()\n",
            "ray.exceptions.RayTaskError(RuntimeError): \u001b[36mray::ImplicitFunc.train()\u001b[39m (pid=5190, ip=172.28.0.12, actor_id=50a3a9ca7bc896ad9b818da601000000, repr=train_vae)\n",
            "           ^^^^^^^^^^^^^^^^^^^^^^^^^^^^^^^^^^^^\n",
            "           ^^^^^^^^^^^^^^^^^^^^^^^^^^^^^^^\n",
            "  File \"/usr/local/lib/python3.11/dist-packages/ray/tune/trainable/trainable.py\", line 331, in train\n",
            "    raise skipped from exception_cause(skipped)\n",
            "  File \"/usr/local/lib/python3.11/dist-packages/ray/air/_internal/util.py\", line 107, in run\n",
            "    self._ret = self._target(*self._args, **self._kwargs)\n",
            "                ^^^^^^^^^^^^^^^^^^^^^^^^^^^^^^^^^^^^^^^^^\n",
            "  File \"/usr/local/lib/python3.11/dist-packages/ray/tune/trainable/function_trainable.py\", line 45, in <lambda>\n",
            "    training_func=lambda: self._trainable_func(self.config),\n",
            "                          ^^^^^^^^^^^^^^^^^^^^^^^^^^^^^^^^^\n",
            "           ^^^^^^^^^^^^^^^^^^^^^^^^^^^^^^^\n",
            "  File \"/usr/local/lib/python3.11/dist-packages/ray/tune/trainable/function_trainable.py\", line 261, in _trainable_func\n",
            "    output = fn()\n",
            "             ^^^^\n",
            "  File \"<ipython-input-11-a913e65f2914>\", line 4, in train_vae\n",
            "  File \"/usr/local/lib/python3.11/dist-packages/torch/nn/modules/module.py\", line 1340, in to\n",
            "    return self._apply(convert)\n",
            "           ^^^^^^^^^^^^^^^^^^^^\n",
            "  File \"/usr/local/lib/python3.11/dist-packages/torch/nn/modules/module.py\", line 900, in _apply\n",
            "    module._apply(fn)\n",
            "  File \"/usr/local/lib/python3.11/dist-packages/torch/nn/modules/module.py\", line 927, in _apply\n",
            "    param_applied = fn(param)\n",
            "                    ^^^^^^^^^\n",
            "  File \"/usr/local/lib/python3.11/dist-packages/torch/nn/modules/module.py\", line 1326, in convert\n",
            "    return t.to(\n",
            "           ^^^^^\n",
            "  File \"/usr/local/lib/python3.11/dist-packages/torch/cuda/__init__.py\", line 319, in _lazy_init\n",
            "    torch._C._cuda_init()\n",
            "RuntimeError: No CUDA GPUs are available\n"
          ]
        },
        {
          "output_type": "stream",
          "name": "stdout",
          "text": [
            "\n",
            "Trial train_vae_a0575_00000 errored after 0 iterations at 2025-02-11 03:31:24. Total running time: 18s\n",
            "Error file: /tmp/ray/session_2025-02-11_03-21-58_700050_194/artifacts/2025-02-11_03-31-05/train_vae_2025-02-11_03-31-05/driver_artifacts/train_vae_a0575_00000_0_batch_size=32,lr=0.0010_2025-02-11_03-31-10/error.txt\n",
            "\n",
            "Trial train_vae_a0575_00001 errored after 0 iterations at 2025-02-11 03:31:24. Total running time: 18s\n",
            "Error file: /tmp/ray/session_2025-02-11_03-21-58_700050_194/artifacts/2025-02-11_03-31-05/train_vae_2025-02-11_03-31-05/driver_artifacts/train_vae_a0575_00001_1_batch_size=64,lr=0.0010_2025-02-11_03-31-11/error.txt\n",
            "\n",
            "Trial train_vae_a0575_00002 started with configuration:\n",
            "+----------------------------------------------+\n",
            "| Trial train_vae_a0575_00002 config           |\n",
            "+----------------------------------------------+\n",
            "| batch_size                               128 |\n",
            "| lr                                     0.001 |\n",
            "+----------------------------------------------+\n",
            "\n",
            "Trial train_vae_a0575_00003 started with configuration:\n",
            "+-----------------------------------------------+\n",
            "| Trial train_vae_a0575_00003 config            |\n",
            "+-----------------------------------------------+\n",
            "| batch_size                                 32 |\n",
            "| lr                                     0.0001 |\n",
            "+-----------------------------------------------+\n"
          ]
        },
        {
          "output_type": "stream",
          "name": "stderr",
          "text": [
            "2025-02-11 03:31:35,788\tERROR tune_controller.py:1331 -- Trial task failed for trial train_vae_a0575_00002\n",
            "Traceback (most recent call last):\n",
            "  File \"/usr/local/lib/python3.11/dist-packages/ray/air/execution/_internal/event_manager.py\", line 110, in resolve_future\n",
            "    result = ray.get(future)\n",
            "             ^^^^^^^^^^^^^^^\n",
            "  File \"/usr/local/lib/python3.11/dist-packages/ray/_private/auto_init_hook.py\", line 21, in auto_init_wrapper\n",
            "    return fn(*args, **kwargs)\n",
            "           ^^^^^^^^^^^^^^^^^^^\n",
            "  File \"/usr/local/lib/python3.11/dist-packages/ray/_private/client_mode_hook.py\", line 103, in wrapper\n",
            "    return func(*args, **kwargs)\n",
            "           ^^^^^^^^^^^^^^^^^^^^^\n",
            "  File \"/usr/local/lib/python3.11/dist-packages/ray/_private/worker.py\", line 2772, in get\n",
            "    values, debugger_breakpoint = worker.get_objects(object_refs, timeout=timeout)\n",
            "                                  ^^^^^^^^^^^^^^^^^^^^^^^^^^^^^^^^^^^^^^^^^^^^^^^^\n",
            "  File \"/usr/local/lib/python3.11/dist-packages/ray/_private/worker.py\", line 919, in get_objects\n",
            "    raise value.as_instanceof_cause()\n",
            "ray.exceptions.RayTaskError(RuntimeError): \u001b[36mray::ImplicitFunc.train()\u001b[39m (pid=5364, ip=172.28.0.12, actor_id=47ce3deaa813245de710f10b01000000, repr=train_vae)\n",
            "           ^^^^^^^^^^^^^^^^^^^^^^^^^^^^^^^^^^^^\n",
            "           ^^^^^^^^^^^^^^^^^^^^^^^^^^^^^^^\n",
            "  File \"/usr/local/lib/python3.11/dist-packages/ray/tune/trainable/trainable.py\", line 331, in train\n",
            "    raise skipped from exception_cause(skipped)\n",
            "  File \"/usr/local/lib/python3.11/dist-packages/ray/air/_internal/util.py\", line 107, in run\n",
            "    self._ret = self._target(*self._args, **self._kwargs)\n",
            "                ^^^^^^^^^^^^^^^^^^^^^^^^^^^^^^^^^^^^^^^^^\n",
            "  File \"/usr/local/lib/python3.11/dist-packages/ray/tune/trainable/function_trainable.py\", line 45, in <lambda>\n",
            "    training_func=lambda: self._trainable_func(self.config),\n",
            "                          ^^^^^^^^^^^^^^^^^^^^^^^^^^^^^^^^^\n",
            "           ^^^^^^^^^^^^^^^^^^^^^^^^^^^^^^^\n",
            "  File \"/usr/local/lib/python3.11/dist-packages/ray/tune/trainable/function_trainable.py\", line 261, in _trainable_func\n",
            "    output = fn()\n",
            "             ^^^^\n",
            "  File \"<ipython-input-11-a913e65f2914>\", line 4, in train_vae\n",
            "  File \"/usr/local/lib/python3.11/dist-packages/torch/nn/modules/module.py\", line 1340, in to\n",
            "    return self._apply(convert)\n",
            "           ^^^^^^^^^^^^^^^^^^^^\n",
            "  File \"/usr/local/lib/python3.11/dist-packages/torch/nn/modules/module.py\", line 900, in _apply\n",
            "    module._apply(fn)\n",
            "  File \"/usr/local/lib/python3.11/dist-packages/torch/nn/modules/module.py\", line 927, in _apply\n",
            "    param_applied = fn(param)\n",
            "                    ^^^^^^^^^\n",
            "  File \"/usr/local/lib/python3.11/dist-packages/torch/nn/modules/module.py\", line 1326, in convert\n",
            "    return t.to(\n",
            "           ^^^^^\n",
            "  File \"/usr/local/lib/python3.11/dist-packages/torch/cuda/__init__.py\", line 319, in _lazy_init\n",
            "    torch._C._cuda_init()\n",
            "RuntimeError: No CUDA GPUs are available\n",
            "2025-02-11 03:31:35,829\tERROR tune_controller.py:1331 -- Trial task failed for trial train_vae_a0575_00003\n",
            "Traceback (most recent call last):\n",
            "  File \"/usr/local/lib/python3.11/dist-packages/ray/air/execution/_internal/event_manager.py\", line 110, in resolve_future\n",
            "    result = ray.get(future)\n",
            "             ^^^^^^^^^^^^^^^\n",
            "  File \"/usr/local/lib/python3.11/dist-packages/ray/_private/auto_init_hook.py\", line 21, in auto_init_wrapper\n",
            "    return fn(*args, **kwargs)\n",
            "           ^^^^^^^^^^^^^^^^^^^\n",
            "  File \"/usr/local/lib/python3.11/dist-packages/ray/_private/client_mode_hook.py\", line 103, in wrapper\n",
            "    return func(*args, **kwargs)\n",
            "           ^^^^^^^^^^^^^^^^^^^^^\n",
            "  File \"/usr/local/lib/python3.11/dist-packages/ray/_private/worker.py\", line 2772, in get\n",
            "    values, debugger_breakpoint = worker.get_objects(object_refs, timeout=timeout)\n",
            "                                  ^^^^^^^^^^^^^^^^^^^^^^^^^^^^^^^^^^^^^^^^^^^^^^^^\n",
            "  File \"/usr/local/lib/python3.11/dist-packages/ray/_private/worker.py\", line 919, in get_objects\n",
            "    raise value.as_instanceof_cause()\n",
            "ray.exceptions.RayTaskError(RuntimeError): \u001b[36mray::ImplicitFunc.train()\u001b[39m (pid=5365, ip=172.28.0.12, actor_id=ba29dd7320e38487d95a3ba501000000, repr=train_vae)\n",
            "           ^^^^^^^^^^^^^^^^^^^^^^^^^^^^^^^^^^^^\n",
            "           ^^^^^^^^^^^^^^^^^^^^^^^^^^^^^^^\n",
            "  File \"/usr/local/lib/python3.11/dist-packages/ray/tune/trainable/trainable.py\", line 331, in train\n",
            "    raise skipped from exception_cause(skipped)\n",
            "  File \"/usr/local/lib/python3.11/dist-packages/ray/air/_internal/util.py\", line 107, in run\n",
            "    self._ret = self._target(*self._args, **self._kwargs)\n",
            "                ^^^^^^^^^^^^^^^^^^^^^^^^^^^^^^^^^^^^^^^^^\n",
            "  File \"/usr/local/lib/python3.11/dist-packages/ray/tune/trainable/function_trainable.py\", line 45, in <lambda>\n",
            "    training_func=lambda: self._trainable_func(self.config),\n",
            "                          ^^^^^^^^^^^^^^^^^^^^^^^^^^^^^^^^^\n",
            "           ^^^^^^^^^^^^^^^^^^^^^^^^^^^^^^^\n",
            "  File \"/usr/local/lib/python3.11/dist-packages/ray/tune/trainable/function_trainable.py\", line 261, in _trainable_func\n",
            "    output = fn()\n",
            "             ^^^^\n",
            "  File \"<ipython-input-11-a913e65f2914>\", line 4, in train_vae\n",
            "  File \"/usr/local/lib/python3.11/dist-packages/torch/nn/modules/module.py\", line 1340, in to\n",
            "    return self._apply(convert)\n",
            "           ^^^^^^^^^^^^^^^^^^^^\n",
            "  File \"/usr/local/lib/python3.11/dist-packages/torch/nn/modules/module.py\", line 900, in _apply\n",
            "    module._apply(fn)\n",
            "  File \"/usr/local/lib/python3.11/dist-packages/torch/nn/modules/module.py\", line 927, in _apply\n",
            "    param_applied = fn(param)\n",
            "                    ^^^^^^^^^\n",
            "  File \"/usr/local/lib/python3.11/dist-packages/torch/nn/modules/module.py\", line 1326, in convert\n",
            "    return t.to(\n",
            "           ^^^^^\n",
            "  File \"/usr/local/lib/python3.11/dist-packages/torch/cuda/__init__.py\", line 319, in _lazy_init\n",
            "    torch._C._cuda_init()\n",
            "RuntimeError: No CUDA GPUs are available\n"
          ]
        },
        {
          "output_type": "stream",
          "name": "stdout",
          "text": [
            "\n",
            "Trial train_vae_a0575_00002 errored after 0 iterations at 2025-02-11 03:31:35. Total running time: 29s\n",
            "Error file: /tmp/ray/session_2025-02-11_03-21-58_700050_194/artifacts/2025-02-11_03-31-05/train_vae_2025-02-11_03-31-05/driver_artifacts/train_vae_a0575_00002_2_batch_size=128,lr=0.0010_2025-02-11_03-31-11/error.txt\n",
            "\n",
            "Trial train_vae_a0575_00003 errored after 0 iterations at 2025-02-11 03:31:35. Total running time: 29s\n",
            "Error file: /tmp/ray/session_2025-02-11_03-21-58_700050_194/artifacts/2025-02-11_03-31-05/train_vae_2025-02-11_03-31-05/driver_artifacts/train_vae_a0575_00003_3_batch_size=32,lr=0.0001_2025-02-11_03-31-12/error.txt\n",
            "\n",
            "Trial status: 4 ERROR | 5 PENDING\n",
            "Current time: 2025-02-11 03:31:46. Total running time: 40s\n",
            "Logical resource usage: 2.0/2 CPUs, 0/1 GPUs (0.0/1.0 accelerator_type:T4)\n",
            "+----------------------------------------------------------+\n",
            "| Trial name              status         lr     batch_size |\n",
            "+----------------------------------------------------------+\n",
            "| train_vae_a0575_00004   PENDING    0.0001             64 |\n",
            "| train_vae_a0575_00005   PENDING    0.0001            128 |\n",
            "| train_vae_a0575_00006   PENDING    1e-05              32 |\n",
            "| train_vae_a0575_00007   PENDING    1e-05              64 |\n",
            "| train_vae_a0575_00008   PENDING    1e-05             128 |\n",
            "| train_vae_a0575_00000   ERROR      0.001              32 |\n",
            "| train_vae_a0575_00001   ERROR      0.001              64 |\n",
            "| train_vae_a0575_00002   ERROR      0.001             128 |\n",
            "| train_vae_a0575_00003   ERROR      0.0001             32 |\n",
            "+----------------------------------------------------------+\n",
            "\n",
            "Trial train_vae_a0575_00004 started with configuration:\n",
            "+-----------------------------------------------+\n",
            "| Trial train_vae_a0575_00004 config            |\n",
            "+-----------------------------------------------+\n",
            "| batch_size                                 64 |\n",
            "| lr                                     0.0001 |\n",
            "+-----------------------------------------------+\n",
            "\n",
            "Trial train_vae_a0575_00005 started with configuration:\n",
            "+-----------------------------------------------+\n",
            "| Trial train_vae_a0575_00005 config            |\n",
            "+-----------------------------------------------+\n",
            "| batch_size                                128 |\n",
            "| lr                                     0.0001 |\n",
            "+-----------------------------------------------+\n"
          ]
        },
        {
          "output_type": "stream",
          "name": "stderr",
          "text": [
            "2025-02-11 03:31:47,881\tERROR tune_controller.py:1331 -- Trial task failed for trial train_vae_a0575_00004\n",
            "Traceback (most recent call last):\n",
            "  File \"/usr/local/lib/python3.11/dist-packages/ray/air/execution/_internal/event_manager.py\", line 110, in resolve_future\n",
            "    result = ray.get(future)\n",
            "             ^^^^^^^^^^^^^^^\n",
            "  File \"/usr/local/lib/python3.11/dist-packages/ray/_private/auto_init_hook.py\", line 21, in auto_init_wrapper\n",
            "    return fn(*args, **kwargs)\n",
            "           ^^^^^^^^^^^^^^^^^^^\n",
            "  File \"/usr/local/lib/python3.11/dist-packages/ray/_private/client_mode_hook.py\", line 103, in wrapper\n",
            "    return func(*args, **kwargs)\n",
            "           ^^^^^^^^^^^^^^^^^^^^^\n",
            "  File \"/usr/local/lib/python3.11/dist-packages/ray/_private/worker.py\", line 2772, in get\n",
            "    values, debugger_breakpoint = worker.get_objects(object_refs, timeout=timeout)\n",
            "                                  ^^^^^^^^^^^^^^^^^^^^^^^^^^^^^^^^^^^^^^^^^^^^^^^^\n",
            "  File \"/usr/local/lib/python3.11/dist-packages/ray/_private/worker.py\", line 919, in get_objects\n",
            "    raise value.as_instanceof_cause()\n",
            "ray.exceptions.RayTaskError(RuntimeError): \u001b[36mray::ImplicitFunc.train()\u001b[39m (pid=5546, ip=172.28.0.12, actor_id=5b814ba467cd7a714bbb95a901000000, repr=train_vae)\n",
            "           ^^^^^^^^^^^^^^^^^^^^^^^^^^^^^^^^^^^^\n",
            "           ^^^^^^^^^^^^^^^^^^^^^^^^^^^^^^^\n",
            "  File \"/usr/local/lib/python3.11/dist-packages/ray/tune/trainable/trainable.py\", line 331, in train\n",
            "    raise skipped from exception_cause(skipped)\n",
            "  File \"/usr/local/lib/python3.11/dist-packages/ray/air/_internal/util.py\", line 107, in run\n",
            "    self._ret = self._target(*self._args, **self._kwargs)\n",
            "                ^^^^^^^^^^^^^^^^^^^^^^^^^^^^^^^^^^^^^^^^^\n",
            "  File \"/usr/local/lib/python3.11/dist-packages/ray/tune/trainable/function_trainable.py\", line 45, in <lambda>\n",
            "    training_func=lambda: self._trainable_func(self.config),\n",
            "                          ^^^^^^^^^^^^^^^^^^^^^^^^^^^^^^^^^\n",
            "           ^^^^^^^^^^^^^^^^^^^^^^^^^^^^^^^\n",
            "  File \"/usr/local/lib/python3.11/dist-packages/ray/tune/trainable/function_trainable.py\", line 261, in _trainable_func\n",
            "    output = fn()\n",
            "             ^^^^\n",
            "  File \"<ipython-input-11-a913e65f2914>\", line 4, in train_vae\n",
            "  File \"/usr/local/lib/python3.11/dist-packages/torch/nn/modules/module.py\", line 1340, in to\n",
            "    return self._apply(convert)\n",
            "           ^^^^^^^^^^^^^^^^^^^^\n",
            "  File \"/usr/local/lib/python3.11/dist-packages/torch/nn/modules/module.py\", line 900, in _apply\n",
            "    module._apply(fn)\n",
            "  File \"/usr/local/lib/python3.11/dist-packages/torch/nn/modules/module.py\", line 927, in _apply\n",
            "    param_applied = fn(param)\n",
            "                    ^^^^^^^^^\n",
            "  File \"/usr/local/lib/python3.11/dist-packages/torch/nn/modules/module.py\", line 1326, in convert\n",
            "    return t.to(\n",
            "           ^^^^^\n",
            "  File \"/usr/local/lib/python3.11/dist-packages/torch/cuda/__init__.py\", line 319, in _lazy_init\n",
            "    torch._C._cuda_init()\n",
            "RuntimeError: No CUDA GPUs are available\n",
            "2025-02-11 03:31:48,059\tERROR tune_controller.py:1331 -- Trial task failed for trial train_vae_a0575_00005\n",
            "Traceback (most recent call last):\n",
            "  File \"/usr/local/lib/python3.11/dist-packages/ray/air/execution/_internal/event_manager.py\", line 110, in resolve_future\n",
            "    result = ray.get(future)\n",
            "             ^^^^^^^^^^^^^^^\n",
            "  File \"/usr/local/lib/python3.11/dist-packages/ray/_private/auto_init_hook.py\", line 21, in auto_init_wrapper\n",
            "    return fn(*args, **kwargs)\n",
            "           ^^^^^^^^^^^^^^^^^^^\n",
            "  File \"/usr/local/lib/python3.11/dist-packages/ray/_private/client_mode_hook.py\", line 103, in wrapper\n",
            "    return func(*args, **kwargs)\n",
            "           ^^^^^^^^^^^^^^^^^^^^^\n",
            "  File \"/usr/local/lib/python3.11/dist-packages/ray/_private/worker.py\", line 2772, in get\n",
            "    values, debugger_breakpoint = worker.get_objects(object_refs, timeout=timeout)\n",
            "                                  ^^^^^^^^^^^^^^^^^^^^^^^^^^^^^^^^^^^^^^^^^^^^^^^^\n",
            "  File \"/usr/local/lib/python3.11/dist-packages/ray/_private/worker.py\", line 919, in get_objects\n",
            "    raise value.as_instanceof_cause()\n",
            "ray.exceptions.RayTaskError(RuntimeError): \u001b[36mray::ImplicitFunc.train()\u001b[39m (pid=5560, ip=172.28.0.12, actor_id=4f51a737da43516218f4663301000000, repr=train_vae)\n",
            "           ^^^^^^^^^^^^^^^^^^^^^^^^^^^^^^^^^^^^\n",
            "           ^^^^^^^^^^^^^^^^^^^^^^^^^^^^^^^\n",
            "  File \"/usr/local/lib/python3.11/dist-packages/ray/tune/trainable/trainable.py\", line 331, in train\n",
            "    raise skipped from exception_cause(skipped)\n",
            "  File \"/usr/local/lib/python3.11/dist-packages/ray/air/_internal/util.py\", line 107, in run\n",
            "    self._ret = self._target(*self._args, **self._kwargs)\n",
            "                ^^^^^^^^^^^^^^^^^^^^^^^^^^^^^^^^^^^^^^^^^\n",
            "  File \"/usr/local/lib/python3.11/dist-packages/ray/tune/trainable/function_trainable.py\", line 45, in <lambda>\n",
            "    training_func=lambda: self._trainable_func(self.config),\n",
            "                          ^^^^^^^^^^^^^^^^^^^^^^^^^^^^^^^^^\n",
            "           ^^^^^^^^^^^^^^^^^^^^^^^^^^^^^^^\n",
            "  File \"/usr/local/lib/python3.11/dist-packages/ray/tune/trainable/function_trainable.py\", line 261, in _trainable_func\n",
            "    output = fn()\n",
            "             ^^^^\n",
            "  File \"<ipython-input-11-a913e65f2914>\", line 4, in train_vae\n",
            "  File \"/usr/local/lib/python3.11/dist-packages/torch/nn/modules/module.py\", line 1340, in to\n",
            "    return self._apply(convert)\n",
            "           ^^^^^^^^^^^^^^^^^^^^\n",
            "  File \"/usr/local/lib/python3.11/dist-packages/torch/nn/modules/module.py\", line 900, in _apply\n",
            "    module._apply(fn)\n",
            "  File \"/usr/local/lib/python3.11/dist-packages/torch/nn/modules/module.py\", line 927, in _apply\n",
            "    param_applied = fn(param)\n",
            "                    ^^^^^^^^^\n",
            "  File \"/usr/local/lib/python3.11/dist-packages/torch/nn/modules/module.py\", line 1326, in convert\n",
            "    return t.to(\n",
            "           ^^^^^\n",
            "  File \"/usr/local/lib/python3.11/dist-packages/torch/cuda/__init__.py\", line 319, in _lazy_init\n",
            "    torch._C._cuda_init()\n",
            "RuntimeError: No CUDA GPUs are available\n"
          ]
        },
        {
          "output_type": "stream",
          "name": "stdout",
          "text": [
            "\n",
            "Trial train_vae_a0575_00004 errored after 0 iterations at 2025-02-11 03:31:47. Total running time: 41s\n",
            "Error file: /tmp/ray/session_2025-02-11_03-21-58_700050_194/artifacts/2025-02-11_03-31-05/train_vae_2025-02-11_03-31-05/driver_artifacts/train_vae_a0575_00004_4_batch_size=64,lr=0.0001_2025-02-11_03-31-12/error.txt\n",
            "\n",
            "Trial train_vae_a0575_00005 errored after 0 iterations at 2025-02-11 03:31:48. Total running time: 41s\n",
            "Error file: /tmp/ray/session_2025-02-11_03-21-58_700050_194/artifacts/2025-02-11_03-31-05/train_vae_2025-02-11_03-31-05/driver_artifacts/train_vae_a0575_00005_5_batch_size=128,lr=0.0001_2025-02-11_03-31-12/error.txt\n",
            "\n",
            "Trial train_vae_a0575_00007 started with configuration:\n",
            "+----------------------------------------------+\n",
            "| Trial train_vae_a0575_00007 config           |\n",
            "+----------------------------------------------+\n",
            "| batch_size                                64 |\n",
            "| lr                                     1e-05 |\n",
            "+----------------------------------------------+\n",
            "\n",
            "Trial train_vae_a0575_00006 started with configuration:\n",
            "+----------------------------------------------+\n",
            "| Trial train_vae_a0575_00006 config           |\n",
            "+----------------------------------------------+\n",
            "| batch_size                                32 |\n",
            "| lr                                     1e-05 |\n",
            "+----------------------------------------------+\n"
          ]
        },
        {
          "output_type": "stream",
          "name": "stderr",
          "text": [
            "2025-02-11 03:31:58,752\tERROR tune_controller.py:1331 -- Trial task failed for trial train_vae_a0575_00007\n",
            "Traceback (most recent call last):\n",
            "  File \"/usr/local/lib/python3.11/dist-packages/ray/air/execution/_internal/event_manager.py\", line 110, in resolve_future\n",
            "    result = ray.get(future)\n",
            "             ^^^^^^^^^^^^^^^\n",
            "  File \"/usr/local/lib/python3.11/dist-packages/ray/_private/auto_init_hook.py\", line 21, in auto_init_wrapper\n",
            "    return fn(*args, **kwargs)\n",
            "           ^^^^^^^^^^^^^^^^^^^\n",
            "  File \"/usr/local/lib/python3.11/dist-packages/ray/_private/client_mode_hook.py\", line 103, in wrapper\n",
            "    return func(*args, **kwargs)\n",
            "           ^^^^^^^^^^^^^^^^^^^^^\n",
            "  File \"/usr/local/lib/python3.11/dist-packages/ray/_private/worker.py\", line 2772, in get\n",
            "    values, debugger_breakpoint = worker.get_objects(object_refs, timeout=timeout)\n",
            "                                  ^^^^^^^^^^^^^^^^^^^^^^^^^^^^^^^^^^^^^^^^^^^^^^^^\n",
            "  File \"/usr/local/lib/python3.11/dist-packages/ray/_private/worker.py\", line 919, in get_objects\n",
            "    raise value.as_instanceof_cause()\n",
            "ray.exceptions.RayTaskError(RuntimeError): \u001b[36mray::ImplicitFunc.train()\u001b[39m (pid=5740, ip=172.28.0.12, actor_id=15b2202a02390c05d937858201000000, repr=train_vae)\n",
            "           ^^^^^^^^^^^^^^^^^^^^^^^^^^^^^^^^^^^^\n",
            "           ^^^^^^^^^^^^^^^^^^^^^^^^^^^^^^^\n",
            "  File \"/usr/local/lib/python3.11/dist-packages/ray/tune/trainable/trainable.py\", line 331, in train\n",
            "    raise skipped from exception_cause(skipped)\n",
            "  File \"/usr/local/lib/python3.11/dist-packages/ray/air/_internal/util.py\", line 107, in run\n",
            "    self._ret = self._target(*self._args, **self._kwargs)\n",
            "                ^^^^^^^^^^^^^^^^^^^^^^^^^^^^^^^^^^^^^^^^^\n",
            "  File \"/usr/local/lib/python3.11/dist-packages/ray/tune/trainable/function_trainable.py\", line 45, in <lambda>\n",
            "    training_func=lambda: self._trainable_func(self.config),\n",
            "                          ^^^^^^^^^^^^^^^^^^^^^^^^^^^^^^^^^\n",
            "           ^^^^^^^^^^^^^^^^^^^^^^^^^^^^^^^\n",
            "  File \"/usr/local/lib/python3.11/dist-packages/ray/tune/trainable/function_trainable.py\", line 261, in _trainable_func\n",
            "    output = fn()\n",
            "             ^^^^\n",
            "  File \"<ipython-input-11-a913e65f2914>\", line 4, in train_vae\n",
            "  File \"/usr/local/lib/python3.11/dist-packages/torch/nn/modules/module.py\", line 1340, in to\n",
            "    return self._apply(convert)\n",
            "           ^^^^^^^^^^^^^^^^^^^^\n",
            "  File \"/usr/local/lib/python3.11/dist-packages/torch/nn/modules/module.py\", line 900, in _apply\n",
            "    module._apply(fn)\n",
            "  File \"/usr/local/lib/python3.11/dist-packages/torch/nn/modules/module.py\", line 927, in _apply\n",
            "    param_applied = fn(param)\n",
            "                    ^^^^^^^^^\n",
            "  File \"/usr/local/lib/python3.11/dist-packages/torch/nn/modules/module.py\", line 1326, in convert\n",
            "    return t.to(\n",
            "           ^^^^^\n",
            "  File \"/usr/local/lib/python3.11/dist-packages/torch/cuda/__init__.py\", line 319, in _lazy_init\n",
            "    torch._C._cuda_init()\n",
            "RuntimeError: No CUDA GPUs are available\n",
            "2025-02-11 03:31:58,811\tERROR tune_controller.py:1331 -- Trial task failed for trial train_vae_a0575_00006\n",
            "Traceback (most recent call last):\n",
            "  File \"/usr/local/lib/python3.11/dist-packages/ray/air/execution/_internal/event_manager.py\", line 110, in resolve_future\n",
            "    result = ray.get(future)\n",
            "             ^^^^^^^^^^^^^^^\n",
            "  File \"/usr/local/lib/python3.11/dist-packages/ray/_private/auto_init_hook.py\", line 21, in auto_init_wrapper\n",
            "    return fn(*args, **kwargs)\n",
            "           ^^^^^^^^^^^^^^^^^^^\n",
            "  File \"/usr/local/lib/python3.11/dist-packages/ray/_private/client_mode_hook.py\", line 103, in wrapper\n",
            "    return func(*args, **kwargs)\n",
            "           ^^^^^^^^^^^^^^^^^^^^^\n",
            "  File \"/usr/local/lib/python3.11/dist-packages/ray/_private/worker.py\", line 2772, in get\n",
            "    values, debugger_breakpoint = worker.get_objects(object_refs, timeout=timeout)\n",
            "                                  ^^^^^^^^^^^^^^^^^^^^^^^^^^^^^^^^^^^^^^^^^^^^^^^^\n",
            "  File \"/usr/local/lib/python3.11/dist-packages/ray/_private/worker.py\", line 919, in get_objects\n",
            "    raise value.as_instanceof_cause()\n",
            "ray.exceptions.RayTaskError(RuntimeError): \u001b[36mray::ImplicitFunc.train()\u001b[39m (pid=5738, ip=172.28.0.12, actor_id=0076d7fb13699d5c80d8aa6d01000000, repr=train_vae)\n",
            "           ^^^^^^^^^^^^^^^^^^^^^^^^^^^^^^^^^^^^\n",
            "           ^^^^^^^^^^^^^^^^^^^^^^^^^^^^^^^\n",
            "  File \"/usr/local/lib/python3.11/dist-packages/ray/tune/trainable/trainable.py\", line 331, in train\n",
            "    raise skipped from exception_cause(skipped)\n",
            "  File \"/usr/local/lib/python3.11/dist-packages/ray/air/_internal/util.py\", line 107, in run\n",
            "    self._ret = self._target(*self._args, **self._kwargs)\n",
            "                ^^^^^^^^^^^^^^^^^^^^^^^^^^^^^^^^^^^^^^^^^\n",
            "  File \"/usr/local/lib/python3.11/dist-packages/ray/tune/trainable/function_trainable.py\", line 45, in <lambda>\n",
            "    training_func=lambda: self._trainable_func(self.config),\n",
            "                          ^^^^^^^^^^^^^^^^^^^^^^^^^^^^^^^^^\n",
            "           ^^^^^^^^^^^^^^^^^^^^^^^^^^^^^^^\n",
            "  File \"/usr/local/lib/python3.11/dist-packages/ray/tune/trainable/function_trainable.py\", line 261, in _trainable_func\n",
            "    output = fn()\n",
            "             ^^^^\n",
            "  File \"<ipython-input-11-a913e65f2914>\", line 4, in train_vae\n",
            "  File \"/usr/local/lib/python3.11/dist-packages/torch/nn/modules/module.py\", line 1340, in to\n",
            "    return self._apply(convert)\n",
            "           ^^^^^^^^^^^^^^^^^^^^\n",
            "  File \"/usr/local/lib/python3.11/dist-packages/torch/nn/modules/module.py\", line 900, in _apply\n",
            "    module._apply(fn)\n",
            "  File \"/usr/local/lib/python3.11/dist-packages/torch/nn/modules/module.py\", line 927, in _apply\n",
            "    param_applied = fn(param)\n",
            "                    ^^^^^^^^^\n",
            "  File \"/usr/local/lib/python3.11/dist-packages/torch/nn/modules/module.py\", line 1326, in convert\n",
            "    return t.to(\n",
            "           ^^^^^\n",
            "  File \"/usr/local/lib/python3.11/dist-packages/torch/cuda/__init__.py\", line 319, in _lazy_init\n",
            "    torch._C._cuda_init()\n",
            "RuntimeError: No CUDA GPUs are available\n"
          ]
        },
        {
          "output_type": "stream",
          "name": "stdout",
          "text": [
            "\n",
            "Trial train_vae_a0575_00007 errored after 0 iterations at 2025-02-11 03:31:58. Total running time: 52s\n",
            "Error file: /tmp/ray/session_2025-02-11_03-21-58_700050_194/artifacts/2025-02-11_03-31-05/train_vae_2025-02-11_03-31-05/driver_artifacts/train_vae_a0575_00007_7_batch_size=64,lr=0.0000_2025-02-11_03-31-13/error.txt\n",
            "\n",
            "Trial train_vae_a0575_00006 errored after 0 iterations at 2025-02-11 03:31:58. Total running time: 52s\n",
            "Error file: /tmp/ray/session_2025-02-11_03-21-58_700050_194/artifacts/2025-02-11_03-31-05/train_vae_2025-02-11_03-31-05/driver_artifacts/train_vae_a0575_00006_6_batch_size=32,lr=0.0000_2025-02-11_03-31-13/error.txt\n",
            "\n",
            "Trial train_vae_a0575_00008 started with configuration:\n",
            "+----------------------------------------------+\n",
            "| Trial train_vae_a0575_00008 config           |\n",
            "+----------------------------------------------+\n",
            "| batch_size                               128 |\n",
            "| lr                                     1e-05 |\n",
            "+----------------------------------------------+\n"
          ]
        },
        {
          "output_type": "stream",
          "name": "stderr",
          "text": [
            "2025-02-11 03:32:05,167\tERROR tune_controller.py:1331 -- Trial task failed for trial train_vae_a0575_00008\n",
            "Traceback (most recent call last):\n",
            "  File \"/usr/local/lib/python3.11/dist-packages/ray/air/execution/_internal/event_manager.py\", line 110, in resolve_future\n",
            "    result = ray.get(future)\n",
            "             ^^^^^^^^^^^^^^^\n",
            "  File \"/usr/local/lib/python3.11/dist-packages/ray/_private/auto_init_hook.py\", line 21, in auto_init_wrapper\n",
            "    return fn(*args, **kwargs)\n",
            "           ^^^^^^^^^^^^^^^^^^^\n",
            "  File \"/usr/local/lib/python3.11/dist-packages/ray/_private/client_mode_hook.py\", line 103, in wrapper\n",
            "    return func(*args, **kwargs)\n",
            "           ^^^^^^^^^^^^^^^^^^^^^\n",
            "  File \"/usr/local/lib/python3.11/dist-packages/ray/_private/worker.py\", line 2772, in get\n",
            "    values, debugger_breakpoint = worker.get_objects(object_refs, timeout=timeout)\n",
            "                                  ^^^^^^^^^^^^^^^^^^^^^^^^^^^^^^^^^^^^^^^^^^^^^^^^\n",
            "  File \"/usr/local/lib/python3.11/dist-packages/ray/_private/worker.py\", line 919, in get_objects\n",
            "    raise value.as_instanceof_cause()\n",
            "ray.exceptions.RayTaskError(RuntimeError): \u001b[36mray::ImplicitFunc.train()\u001b[39m (pid=5892, ip=172.28.0.12, actor_id=af6c82d1d038838e4f28a44a01000000, repr=train_vae)\n",
            "           ^^^^^^^^^^^^^^^^^^^^^^^^^^^^^^^^^^^^\n",
            "           ^^^^^^^^^^^^^^^^^^^^^^^^^^^^^^^\n",
            "  File \"/usr/local/lib/python3.11/dist-packages/ray/tune/trainable/trainable.py\", line 331, in train\n",
            "    raise skipped from exception_cause(skipped)\n",
            "  File \"/usr/local/lib/python3.11/dist-packages/ray/air/_internal/util.py\", line 107, in run\n",
            "    self._ret = self._target(*self._args, **self._kwargs)\n",
            "                ^^^^^^^^^^^^^^^^^^^^^^^^^^^^^^^^^^^^^^^^^\n",
            "  File \"/usr/local/lib/python3.11/dist-packages/ray/tune/trainable/function_trainable.py\", line 45, in <lambda>\n",
            "    training_func=lambda: self._trainable_func(self.config),\n",
            "                          ^^^^^^^^^^^^^^^^^^^^^^^^^^^^^^^^^\n",
            "           ^^^^^^^^^^^^^^^^^^^^^^^^^^^^^^^\n",
            "  File \"/usr/local/lib/python3.11/dist-packages/ray/tune/trainable/function_trainable.py\", line 261, in _trainable_func\n",
            "    output = fn()\n",
            "             ^^^^\n",
            "  File \"<ipython-input-11-a913e65f2914>\", line 4, in train_vae\n",
            "  File \"/usr/local/lib/python3.11/dist-packages/torch/nn/modules/module.py\", line 1340, in to\n",
            "    return self._apply(convert)\n",
            "           ^^^^^^^^^^^^^^^^^^^^\n",
            "  File \"/usr/local/lib/python3.11/dist-packages/torch/nn/modules/module.py\", line 900, in _apply\n",
            "    module._apply(fn)\n",
            "  File \"/usr/local/lib/python3.11/dist-packages/torch/nn/modules/module.py\", line 927, in _apply\n",
            "    param_applied = fn(param)\n",
            "                    ^^^^^^^^^\n",
            "  File \"/usr/local/lib/python3.11/dist-packages/torch/nn/modules/module.py\", line 1326, in convert\n",
            "    return t.to(\n",
            "           ^^^^^\n",
            "  File \"/usr/local/lib/python3.11/dist-packages/torch/cuda/__init__.py\", line 319, in _lazy_init\n",
            "    torch._C._cuda_init()\n",
            "RuntimeError: No CUDA GPUs are available\n",
            "2025-02-11 03:32:05,181\tINFO tune.py:1009 -- Wrote the latest version of all result files and experiment state to '/root/ray_results/train_vae_2025-02-11_03-31-05' in 0.0075s.\n"
          ]
        },
        {
          "output_type": "stream",
          "name": "stdout",
          "text": [
            "\n",
            "Trial train_vae_a0575_00008 errored after 0 iterations at 2025-02-11 03:32:05. Total running time: 58s\n",
            "Error file: /tmp/ray/session_2025-02-11_03-21-58_700050_194/artifacts/2025-02-11_03-31-05/train_vae_2025-02-11_03-31-05/driver_artifacts/train_vae_a0575_00008_8_batch_size=128,lr=0.0000_2025-02-11_03-31-14/error.txt\n",
            "\n",
            "Trial status: 9 ERROR\n",
            "Current time: 2025-02-11 03:32:05. Total running time: 58s\n",
            "Logical resource usage: 1.0/2 CPUs, 0/1 GPUs (0.0/1.0 accelerator_type:T4)\n",
            "+----------------------------------------------------------+\n",
            "| Trial name              status         lr     batch_size |\n",
            "+----------------------------------------------------------+\n",
            "| train_vae_a0575_00000   ERROR      0.001              32 |\n",
            "| train_vae_a0575_00001   ERROR      0.001              64 |\n",
            "| train_vae_a0575_00002   ERROR      0.001             128 |\n",
            "| train_vae_a0575_00003   ERROR      0.0001             32 |\n",
            "| train_vae_a0575_00004   ERROR      0.0001             64 |\n",
            "| train_vae_a0575_00005   ERROR      0.0001            128 |\n",
            "| train_vae_a0575_00006   ERROR      1e-05              32 |\n",
            "| train_vae_a0575_00007   ERROR      1e-05              64 |\n",
            "| train_vae_a0575_00008   ERROR      1e-05             128 |\n",
            "+----------------------------------------------------------+\n",
            "\n",
            "Number of errored trials: 9\n",
            "+----------------------------------------------------------------------------------------------------------------------------------------------------------------------------------------------------------------------------------------------------+\n",
            "| Trial name                # failures   error file                                                                                                                                                                                                  |\n",
            "+----------------------------------------------------------------------------------------------------------------------------------------------------------------------------------------------------------------------------------------------------+\n",
            "| train_vae_a0575_00000              1   /tmp/ray/session_2025-02-11_03-21-58_700050_194/artifacts/2025-02-11_03-31-05/train_vae_2025-02-11_03-31-05/driver_artifacts/train_vae_a0575_00000_0_batch_size=32,lr=0.0010_2025-02-11_03-31-10/error.txt  |\n",
            "| train_vae_a0575_00001              1   /tmp/ray/session_2025-02-11_03-21-58_700050_194/artifacts/2025-02-11_03-31-05/train_vae_2025-02-11_03-31-05/driver_artifacts/train_vae_a0575_00001_1_batch_size=64,lr=0.0010_2025-02-11_03-31-11/error.txt  |\n",
            "| train_vae_a0575_00002              1   /tmp/ray/session_2025-02-11_03-21-58_700050_194/artifacts/2025-02-11_03-31-05/train_vae_2025-02-11_03-31-05/driver_artifacts/train_vae_a0575_00002_2_batch_size=128,lr=0.0010_2025-02-11_03-31-11/error.txt |\n",
            "| train_vae_a0575_00003              1   /tmp/ray/session_2025-02-11_03-21-58_700050_194/artifacts/2025-02-11_03-31-05/train_vae_2025-02-11_03-31-05/driver_artifacts/train_vae_a0575_00003_3_batch_size=32,lr=0.0001_2025-02-11_03-31-12/error.txt  |\n",
            "| train_vae_a0575_00004              1   /tmp/ray/session_2025-02-11_03-21-58_700050_194/artifacts/2025-02-11_03-31-05/train_vae_2025-02-11_03-31-05/driver_artifacts/train_vae_a0575_00004_4_batch_size=64,lr=0.0001_2025-02-11_03-31-12/error.txt  |\n",
            "| train_vae_a0575_00005              1   /tmp/ray/session_2025-02-11_03-21-58_700050_194/artifacts/2025-02-11_03-31-05/train_vae_2025-02-11_03-31-05/driver_artifacts/train_vae_a0575_00005_5_batch_size=128,lr=0.0001_2025-02-11_03-31-12/error.txt |\n",
            "| train_vae_a0575_00006              1   /tmp/ray/session_2025-02-11_03-21-58_700050_194/artifacts/2025-02-11_03-31-05/train_vae_2025-02-11_03-31-05/driver_artifacts/train_vae_a0575_00006_6_batch_size=32,lr=0.0000_2025-02-11_03-31-13/error.txt  |\n",
            "| train_vae_a0575_00007              1   /tmp/ray/session_2025-02-11_03-21-58_700050_194/artifacts/2025-02-11_03-31-05/train_vae_2025-02-11_03-31-05/driver_artifacts/train_vae_a0575_00007_7_batch_size=64,lr=0.0000_2025-02-11_03-31-13/error.txt  |\n",
            "| train_vae_a0575_00008              1   /tmp/ray/session_2025-02-11_03-21-58_700050_194/artifacts/2025-02-11_03-31-05/train_vae_2025-02-11_03-31-05/driver_artifacts/train_vae_a0575_00008_8_batch_size=128,lr=0.0000_2025-02-11_03-31-14/error.txt |\n",
            "+----------------------------------------------------------------------------------------------------------------------------------------------------------------------------------------------------------------------------------------------------+\n",
            "\n"
          ]
        },
        {
          "output_type": "error",
          "ename": "TuneError",
          "evalue": "('Trials did not complete', [train_vae_a0575_00000, train_vae_a0575_00001, train_vae_a0575_00002, train_vae_a0575_00003, train_vae_a0575_00004, train_vae_a0575_00005, train_vae_a0575_00006, train_vae_a0575_00007, train_vae_a0575_00008])",
          "traceback": [
            "\u001b[0;31m---------------------------------------------------------------------------\u001b[0m",
            "\u001b[0;31mTuneError\u001b[0m                                 Traceback (most recent call last)",
            "\u001b[0;32m<ipython-input-11-a913e65f2914>\u001b[0m in \u001b[0;36m<cell line: 0>\u001b[0;34m()\u001b[0m\n\u001b[1;32m     34\u001b[0m }\n\u001b[1;32m     35\u001b[0m \u001b[0;34m\u001b[0m\u001b[0m\n\u001b[0;32m---> 36\u001b[0;31m analysis = tune.run(\n\u001b[0m\u001b[1;32m     37\u001b[0m     \u001b[0mtrain_vae\u001b[0m\u001b[0;34m,\u001b[0m\u001b[0;34m\u001b[0m\u001b[0;34m\u001b[0m\u001b[0m\n\u001b[1;32m     38\u001b[0m     \u001b[0mconfig\u001b[0m\u001b[0;34m=\u001b[0m\u001b[0mconfig\u001b[0m\u001b[0;34m,\u001b[0m\u001b[0;34m\u001b[0m\u001b[0;34m\u001b[0m\u001b[0m\n",
            "\u001b[0;32m/usr/local/lib/python3.11/dist-packages/ray/tune/tune.py\u001b[0m in \u001b[0;36mrun\u001b[0;34m(run_or_experiment, name, metric, mode, stop, time_budget_s, config, resources_per_trial, num_samples, storage_path, storage_filesystem, search_alg, scheduler, checkpoint_config, verbose, progress_reporter, log_to_file, trial_name_creator, trial_dirname_creator, sync_config, export_formats, max_failures, fail_fast, restore, resume, resume_config, reuse_actors, raise_on_failed_trial, callbacks, max_concurrent_trials, keep_checkpoints_num, checkpoint_score_attr, checkpoint_freq, checkpoint_at_end, chdir_to_trial_dir, local_dir, _remote, _remote_string_queue, _entrypoint)\u001b[0m\n\u001b[1;32m   1033\u001b[0m     \u001b[0;32mif\u001b[0m \u001b[0mincomplete_trials\u001b[0m\u001b[0;34m:\u001b[0m\u001b[0;34m\u001b[0m\u001b[0;34m\u001b[0m\u001b[0m\n\u001b[1;32m   1034\u001b[0m         \u001b[0;32mif\u001b[0m \u001b[0mraise_on_failed_trial\u001b[0m \u001b[0;32mand\u001b[0m \u001b[0;32mnot\u001b[0m \u001b[0mexperiment_interrupted_event\u001b[0m\u001b[0;34m.\u001b[0m\u001b[0mis_set\u001b[0m\u001b[0;34m(\u001b[0m\u001b[0;34m)\u001b[0m\u001b[0;34m:\u001b[0m\u001b[0;34m\u001b[0m\u001b[0;34m\u001b[0m\u001b[0m\n\u001b[0;32m-> 1035\u001b[0;31m             \u001b[0;32mraise\u001b[0m \u001b[0mTuneError\u001b[0m\u001b[0;34m(\u001b[0m\u001b[0;34m\"Trials did not complete\"\u001b[0m\u001b[0;34m,\u001b[0m \u001b[0mincomplete_trials\u001b[0m\u001b[0;34m)\u001b[0m\u001b[0;34m\u001b[0m\u001b[0;34m\u001b[0m\u001b[0m\n\u001b[0m\u001b[1;32m   1036\u001b[0m         \u001b[0;32melse\u001b[0m\u001b[0;34m:\u001b[0m\u001b[0;34m\u001b[0m\u001b[0;34m\u001b[0m\u001b[0m\n\u001b[1;32m   1037\u001b[0m             \u001b[0mlogger\u001b[0m\u001b[0;34m.\u001b[0m\u001b[0merror\u001b[0m\u001b[0;34m(\u001b[0m\u001b[0;34m\"Trials did not complete: %s\"\u001b[0m\u001b[0;34m,\u001b[0m \u001b[0mincomplete_trials\u001b[0m\u001b[0;34m)\u001b[0m\u001b[0;34m\u001b[0m\u001b[0;34m\u001b[0m\u001b[0m\n",
            "\u001b[0;31mTuneError\u001b[0m: ('Trials did not complete', [train_vae_a0575_00000, train_vae_a0575_00001, train_vae_a0575_00002, train_vae_a0575_00003, train_vae_a0575_00004, train_vae_a0575_00005, train_vae_a0575_00006, train_vae_a0575_00007, train_vae_a0575_00008])"
          ]
        }
      ]
    },
    {
      "cell_type": "code",
      "source": [],
      "metadata": {
        "id": "eZwjoUFD2anp"
      },
      "execution_count": null,
      "outputs": []
    }
  ]
}